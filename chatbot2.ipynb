{
 "cells": [
  {
   "cell_type": "code",
   "execution_count": 1,
   "metadata": {},
   "outputs": [],
   "source": [
    "import speech_recognition as sr\n",
    "import pyttsx3\n",
    "import nltk\n",
    "import regex as re\n",
    "from nltk.tokenize import word_tokenize\n",
    "import time\n",
    "\n",
    "\n",
    "\n",
    "\n"
   ]
  },
  {
   "cell_type": "markdown",
   "metadata": {},
   "source": [
    "nltk.download('punkt')\n",
    "nltk.download('averaged_perceptron_tagger')\n",
    "nltk.download('maxent_ne_chunker')\n",
    "nltk.download('words')\n",
    "nltk.download('punkt_tab')"
   ]
  },
  {
   "cell_type": "code",
   "execution_count": 2,
   "metadata": {},
   "outputs": [],
   "source": [
    "engine = pyttsx3.init()\n",
    "def speak(text):\n",
    "    engine.say(text)\n",
    "    engine.runAndWait()  # Waits until speaking is done before continuing"
   ]
  },
  {
   "cell_type": "code",
   "execution_count": 3,
   "metadata": {},
   "outputs": [],
   "source": [
    "recognizer = sr.Recognizer()\n",
    "\n",
    "def listen():\n",
    "    with sr.Microphone() as source:\n",
    "        print(\"Listening...\")\n",
    "        audio = recognizer.listen(source)\n",
    "        try:\n",
    "            text = recognizer.recognize_google(audio)\n",
    "            print(f\"Recognized: {text}\")\n",
    "            return text\n",
    "        except sr.UnknownValueError:\n",
    "            speak(\"Sorry, I did not understand that.\")\n",
    "            return \"\"\n",
    "        except sr.RequestError:\n",
    "            speak(\"Sorry, the service is down.\")\n",
    "            return \"\""
   ]
  },
  {
   "cell_type": "code",
   "execution_count": 4,
   "metadata": {},
   "outputs": [],
   "source": [
    "def chatbot_logic(user_input):\n",
    "    print(user_input, 'Line 2, Inside chatbot_logic')\n",
    "    tokens = word_tokenize(user_input.lower())\n",
    "    \n",
    "    if not tokens: # If the customer remained silent\n",
    "        response = \"Sorry, I missed your response. Can you please confirm if you would like to proceed with the request for standard or credit card issuance for DMF?\"\n",
    "    \n",
    "    # If customer said Yes\n",
    "    elif any(word in tokens for word in ['yes', 'Please Do', 'Go ahead', 'Carry On']):\n",
    "        response = \"That's a great choice! You can convert your Credit Card  outstanding amount of INR 5000 into 3, 6, 9, 12, 18, 24, 36 equal monthly instalments. Could you please confirm your preferred EMI tenure? If you wish to hear this again, please say repeat.\"\n",
    "        speak(response)\n",
    "\n",
    "        #Seeking further response for number of months of EMI\n",
    "        user_input = listen() #listen to user\n",
    "        tokens = word_tokenize(user_input.lower())\n",
    "        if any(word in tokens for word in ['3', '6', '9', '12', '18', '24', '36', 3, 6, 9, 12, 18, 24, 36]): \n",
    "            match = re.search(r'\\d+', user_input) # Use regex for find out the no. of months spoken by user\n",
    "            month = int(match.group()) # Convert string to int\n",
    "            EMI = 5000 / month\n",
    "            response = f\"Nice! You have selected {month} months EMI plan. Your monthly installment will be INR. {EMI:.2f} with an interest rate of 10% and processing fees of 1%. Please confirm shall I go ahead with your request?\"\n",
    "            speak(response)\n",
    "\n",
    "            #Seeek final confirmation\n",
    "            user_input = listen()\n",
    "            tokens = word_tokenize(user_input.lower())\n",
    "            if any(word in tokens for word in ['yes', 'do', 'on', 'ahead']):\n",
    "                    response = f\"Alright! As per your confirmation request to convert your outstanding to {month} months EMI plan, with a monthly instalment of INR {EMI:.2f} and interest rate of 10% is updated. You shall receive your confirmation shortly via SMS on your registered mobile number. Thank you!\"\n",
    "                    speak(response)\n",
    "                    return \"have a nice day\"\n",
    "        elif any(word in tokens for word in ['yes', 'interested', 'Please Do', 'Go ahead', 'Carry On']):\n",
    "            response = \"That's a great choice! You can convert your Credit Card  outstanding amount of INR 5000 into 3, 6, 9, 12, 18, 24, 36 equal monthly instalments. Could you please confirm your preferred EMI tenure? If you wish to hear this again, please say repeat.\"\n",
    "            \n",
    "        return response\n",
    "\n",
    "\n",
    "\n",
    "\n",
    "\n",
    "    elif any(word in tokens for word in ['repeat']):\n",
    "        response = \"That's a great choice! You can convert your Credit Card  outstanding amount of INR 5000 into 3, 6, 9, 12, 18, 24, 36 equal monthly instalments. Could you please confirm your preferred EMI tenure? If you wish to hear this again, please say repeat.\"\n",
    "    \n",
    "    #If customer said NO\n",
    "    elif any(word in tokens for word in ['not', 'no']):\n",
    "        response = \"Alright, but this is the best opportunity to avail the lowest interest rates. You may lose this opportunity if you do not respond now. Say yes to avail this offer.\"\n",
    "        speak(response)\n",
    "        \n",
    "        \n",
    "        # Again listening after attempting to convice user\n",
    "        user_input = listen()\n",
    "        tokens = word_tokenize(user_input.lower())\n",
    "        if any(word in tokens for word in ['no', 'not']):\n",
    "            response = \"Okay! Thank you, and have a good day!\"\n",
    "        \n",
    "        elif any(word in tokens for word in ['yes', 'interested', 'Please Do', 'Go ahead', 'Carry On']):\n",
    "            response = \"That's a great choice! You can convert your Credit Card  outstanding amount of INR 5000 into 3, 6, 9, 12, 18, 24, 36 equal monthly instalments. Could you please confirm your preferred EMI tenure? If you wish to hear this again, please say repeat.\"\n",
    "            print(user_input)\n",
    "        return response\n",
    "\n",
    "\n",
    "    elif any(word in tokens for word in ['busy', 'later', 'call']):\n",
    "        response = \"Okay! I understand that you may have a busy schedule. I will call you later.\"\n",
    "        return \"Have a nice day\"\n",
    "    \n",
    "    elif any(word in tokens for word in ['lower', 'higher', 'tenure']):\n",
    "        response = \"Oh! I understand your requirement, but currently the tenure is available for 3, 6, 9, 12, 18, 24, 36 months. Please confirm your preferred tenure.\"\n",
    "    \n",
    "    elif any(word in tokens for word in ['interest', 'rate']):\n",
    "        response = \"Currently, the offered rate of interest is [ROI]% and this is the best interest rate in your credit card. [Tenure 1] months EMI plan for [Tenure 1] months and [Amount] EMI. Please confirm your preferred tenure. [Tenure 1], [Tenure 2], [Tenure 3], [Tenure 4], [Tenure 5], [Tenure 6] months.\"\n",
    "    \n",
    "    elif any(word in tokens for word in ['not satisfied']):\n",
    "        response = \"Alright, but this is the best opportunity to avail the lowest interest rates. You may lose this opportunity if you do not respond now. Say yes to avail this offer.\"\n",
    "    \n",
    "    else:\n",
    "        response = \"Sorry, I missed your response. Can you please confirm if you would be interested in knowing about our standard credit card issuance?\"\n",
    "    \n",
    "    return response\n"
   ]
  },
  {
   "cell_type": "code",
   "execution_count": 5,
   "metadata": {},
   "outputs": [
    {
     "name": "stdout",
     "output_type": "stream",
     "text": [
      "Listening...\n",
      "Recognized: I am interested yes\n",
      "I am interested yes Box 6\n",
      "I am interested yes Line 2, Inside chatbot_logic\n",
      "Listening...\n",
      "Recognized: 3 months\n",
      "Listening...\n",
      "Recognized: yes please go ahead\n"
     ]
    }
   ],
   "source": [
    "speak(\" Hi Customer, I’m Vidya from TEST  Bank, I have an exciting offer for you! Convert your outstanding Credit Card balance into easy EMIs, say yes to explore the option.\")\n",
    "while True:\n",
    "    user_input = listen()\n",
    "    if user_input:\n",
    "        print(user_input, \"Box 6\")\n",
    "        response = chatbot_logic(user_input)\n",
    "        speak(response)\n",
    "        if \"have a nice day\" in response or \"have a good day\" in response:\n",
    "            break\n"
   ]
  },
  {
   "cell_type": "code",
   "execution_count": null,
   "metadata": {},
   "outputs": [],
   "source": []
  },
  {
   "cell_type": "code",
   "execution_count": null,
   "metadata": {},
   "outputs": [],
   "source": []
  },
  {
   "cell_type": "code",
   "execution_count": null,
   "metadata": {},
   "outputs": [],
   "source": []
  }
 ],
 "metadata": {
  "kernelspec": {
   "display_name": "venv",
   "language": "python",
   "name": "venv"
  },
  "language_info": {
   "codemirror_mode": {
    "name": "ipython",
    "version": 3
   },
   "file_extension": ".py",
   "mimetype": "text/x-python",
   "name": "python",
   "nbconvert_exporter": "python",
   "pygments_lexer": "ipython3",
   "version": "3.12.7"
  }
 },
 "nbformat": 4,
 "nbformat_minor": 4
}
